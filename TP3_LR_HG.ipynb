{
 "cells": [
  {
   "cell_type": "markdown",
   "id": "9d70c37e",
   "metadata": {},
   "source": [
    "# Team Project 3\n",
    "## Hannah Garrett & Leighann Robinson\n",
    "### DS160 SP 23"
   ]
  },
  {
   "cell_type": "markdown",
   "id": "330887ab",
   "metadata": {},
   "source": [
    "## Import the libraries"
   ]
  },
  {
   "cell_type": "code",
   "execution_count": 1,
   "id": "c2e4590c",
   "metadata": {},
   "outputs": [],
   "source": [
    "import numpy as np\n",
    "import seaborn as sns\n",
    "import matplotlib.pyplot as plt\n",
    "import pandas as pd"
   ]
  },
  {
   "cell_type": "markdown",
   "id": "eaad49b0",
   "metadata": {},
   "source": [
    "## Import the dataset"
   ]
  },
  {
   "cell_type": "code",
   "execution_count": 2,
   "id": "2edabebb",
   "metadata": {},
   "outputs": [],
   "source": [
    "dataset=pd.read_csv('Housing.csv')"
   ]
  },
  {
   "cell_type": "markdown",
   "id": "0533f978",
   "metadata": {},
   "source": [
    "## View the datatset"
   ]
  },
  {
   "cell_type": "code",
   "execution_count": 3,
   "id": "20ac687c",
   "metadata": {},
   "outputs": [
    {
     "data": {
      "text/html": [
       "<div>\n",
       "<style scoped>\n",
       "    .dataframe tbody tr th:only-of-type {\n",
       "        vertical-align: middle;\n",
       "    }\n",
       "\n",
       "    .dataframe tbody tr th {\n",
       "        vertical-align: top;\n",
       "    }\n",
       "\n",
       "    .dataframe thead th {\n",
       "        text-align: right;\n",
       "    }\n",
       "</style>\n",
       "<table border=\"1\" class=\"dataframe\">\n",
       "  <thead>\n",
       "    <tr style=\"text-align: right;\">\n",
       "      <th></th>\n",
       "      <th>price</th>\n",
       "      <th>area</th>\n",
       "      <th>bedrooms</th>\n",
       "      <th>bathrooms</th>\n",
       "      <th>stories</th>\n",
       "      <th>mainroad</th>\n",
       "      <th>guestroom</th>\n",
       "      <th>basement</th>\n",
       "      <th>hotwaterheating</th>\n",
       "      <th>airconditioning</th>\n",
       "      <th>parking</th>\n",
       "      <th>prefarea</th>\n",
       "      <th>furnishingstatus</th>\n",
       "    </tr>\n",
       "  </thead>\n",
       "  <tbody>\n",
       "    <tr>\n",
       "      <th>0</th>\n",
       "      <td>13300000</td>\n",
       "      <td>7420</td>\n",
       "      <td>4</td>\n",
       "      <td>2</td>\n",
       "      <td>3</td>\n",
       "      <td>yes</td>\n",
       "      <td>no</td>\n",
       "      <td>no</td>\n",
       "      <td>no</td>\n",
       "      <td>yes</td>\n",
       "      <td>2</td>\n",
       "      <td>yes</td>\n",
       "      <td>furnished</td>\n",
       "    </tr>\n",
       "    <tr>\n",
       "      <th>1</th>\n",
       "      <td>12250000</td>\n",
       "      <td>8960</td>\n",
       "      <td>4</td>\n",
       "      <td>4</td>\n",
       "      <td>4</td>\n",
       "      <td>yes</td>\n",
       "      <td>no</td>\n",
       "      <td>no</td>\n",
       "      <td>no</td>\n",
       "      <td>yes</td>\n",
       "      <td>3</td>\n",
       "      <td>no</td>\n",
       "      <td>furnished</td>\n",
       "    </tr>\n",
       "    <tr>\n",
       "      <th>2</th>\n",
       "      <td>12250000</td>\n",
       "      <td>9960</td>\n",
       "      <td>3</td>\n",
       "      <td>2</td>\n",
       "      <td>2</td>\n",
       "      <td>yes</td>\n",
       "      <td>no</td>\n",
       "      <td>yes</td>\n",
       "      <td>no</td>\n",
       "      <td>no</td>\n",
       "      <td>2</td>\n",
       "      <td>yes</td>\n",
       "      <td>semi-furnished</td>\n",
       "    </tr>\n",
       "    <tr>\n",
       "      <th>3</th>\n",
       "      <td>12215000</td>\n",
       "      <td>7500</td>\n",
       "      <td>4</td>\n",
       "      <td>2</td>\n",
       "      <td>2</td>\n",
       "      <td>yes</td>\n",
       "      <td>no</td>\n",
       "      <td>yes</td>\n",
       "      <td>no</td>\n",
       "      <td>yes</td>\n",
       "      <td>3</td>\n",
       "      <td>yes</td>\n",
       "      <td>furnished</td>\n",
       "    </tr>\n",
       "    <tr>\n",
       "      <th>4</th>\n",
       "      <td>11410000</td>\n",
       "      <td>7420</td>\n",
       "      <td>4</td>\n",
       "      <td>1</td>\n",
       "      <td>2</td>\n",
       "      <td>yes</td>\n",
       "      <td>yes</td>\n",
       "      <td>yes</td>\n",
       "      <td>no</td>\n",
       "      <td>yes</td>\n",
       "      <td>2</td>\n",
       "      <td>no</td>\n",
       "      <td>furnished</td>\n",
       "    </tr>\n",
       "  </tbody>\n",
       "</table>\n",
       "</div>"
      ],
      "text/plain": [
       "      price  area  bedrooms  bathrooms  stories mainroad guestroom basement  \\\n",
       "0  13300000  7420         4          2        3      yes        no       no   \n",
       "1  12250000  8960         4          4        4      yes        no       no   \n",
       "2  12250000  9960         3          2        2      yes        no      yes   \n",
       "3  12215000  7500         4          2        2      yes        no      yes   \n",
       "4  11410000  7420         4          1        2      yes       yes      yes   \n",
       "\n",
       "  hotwaterheating airconditioning  parking prefarea furnishingstatus  \n",
       "0              no             yes        2      yes        furnished  \n",
       "1              no             yes        3       no        furnished  \n",
       "2              no              no        2      yes   semi-furnished  \n",
       "3              no             yes        3      yes        furnished  \n",
       "4              no             yes        2       no        furnished  "
      ]
     },
     "execution_count": 3,
     "metadata": {},
     "output_type": "execute_result"
    }
   ],
   "source": [
    "dataset.head()"
   ]
  },
  {
   "cell_type": "code",
   "execution_count": 4,
   "id": "ffe03d74",
   "metadata": {},
   "outputs": [
    {
     "name": "stdout",
     "output_type": "stream",
     "text": [
      "<class 'pandas.core.frame.DataFrame'>\n",
      "RangeIndex: 545 entries, 0 to 544\n",
      "Data columns (total 13 columns):\n",
      " #   Column            Non-Null Count  Dtype \n",
      "---  ------            --------------  ----- \n",
      " 0   price             545 non-null    int64 \n",
      " 1   area              545 non-null    int64 \n",
      " 2   bedrooms          545 non-null    int64 \n",
      " 3   bathrooms         545 non-null    int64 \n",
      " 4   stories           545 non-null    int64 \n",
      " 5   mainroad          545 non-null    object\n",
      " 6   guestroom         545 non-null    object\n",
      " 7   basement          545 non-null    object\n",
      " 8   hotwaterheating   545 non-null    object\n",
      " 9   airconditioning   545 non-null    object\n",
      " 10  parking           545 non-null    int64 \n",
      " 11  prefarea          545 non-null    object\n",
      " 12  furnishingstatus  545 non-null    object\n",
      "dtypes: int64(6), object(7)\n",
      "memory usage: 55.5+ KB\n"
     ]
    }
   ],
   "source": [
    "dataset.info()"
   ]
  },
  {
   "cell_type": "markdown",
   "id": "d4b3595f",
   "metadata": {},
   "source": [
    "##### There are no null values to impute for this dataset."
   ]
  },
  {
   "cell_type": "markdown",
   "id": "0057046c",
   "metadata": {},
   "source": [
    "### Splitting the dataset into independent and dependent variables"
   ]
  },
  {
   "cell_type": "code",
   "execution_count": 5,
   "id": "37d8f601",
   "metadata": {},
   "outputs": [
    {
     "data": {
      "text/plain": [
       "Index(['price', 'area', 'bedrooms', 'bathrooms', 'stories', 'mainroad',\n",
       "       'guestroom', 'basement', 'hotwaterheating', 'airconditioning',\n",
       "       'parking', 'prefarea', 'furnishingstatus'],\n",
       "      dtype='object')"
      ]
     },
     "execution_count": 5,
     "metadata": {},
     "output_type": "execute_result"
    }
   ],
   "source": [
    "dataset.columns"
   ]
  },
  {
   "cell_type": "code",
   "execution_count": 6,
   "id": "355061ee",
   "metadata": {},
   "outputs": [],
   "source": [
    "X=dataset[['area', 'bedrooms', 'bathrooms', 'stories', 'mainroad',\n",
    "       'guestroom', 'basement', 'hotwaterheating', 'airconditioning',\n",
    "       'parking', 'prefarea', 'furnishingstatus']]\n",
    "y=dataset[['price']]"
   ]
  },
  {
   "cell_type": "markdown",
   "id": "ad244c72",
   "metadata": {},
   "source": [
    "### Handling categorical data"
   ]
  },
  {
   "cell_type": "code",
   "execution_count": 7,
   "id": "042ad1f2",
   "metadata": {},
   "outputs": [],
   "source": [
    "X=pd.get_dummies(dataset[['area',\n",
    "                          'bedrooms',\n",
    "                          'bathrooms',\n",
    "                          'stories',\n",
    "                          'mainroad',\n",
    "                          'guestroom',\n",
    "                          'basement',\n",
    "                          'hotwaterheating',\n",
    "                          'airconditioning',\n",
    "                          'parking',\n",
    "                          'prefarea',\n",
    "                          'furnishingstatus']],\n",
    "                drop_first=True)"
   ]
  },
  {
   "cell_type": "code",
   "execution_count": 8,
   "id": "64d58553",
   "metadata": {},
   "outputs": [
    {
     "data": {
      "text/html": [
       "<div>\n",
       "<style scoped>\n",
       "    .dataframe tbody tr th:only-of-type {\n",
       "        vertical-align: middle;\n",
       "    }\n",
       "\n",
       "    .dataframe tbody tr th {\n",
       "        vertical-align: top;\n",
       "    }\n",
       "\n",
       "    .dataframe thead th {\n",
       "        text-align: right;\n",
       "    }\n",
       "</style>\n",
       "<table border=\"1\" class=\"dataframe\">\n",
       "  <thead>\n",
       "    <tr style=\"text-align: right;\">\n",
       "      <th></th>\n",
       "      <th>area</th>\n",
       "      <th>bedrooms</th>\n",
       "      <th>bathrooms</th>\n",
       "      <th>stories</th>\n",
       "      <th>parking</th>\n",
       "      <th>mainroad_yes</th>\n",
       "      <th>guestroom_yes</th>\n",
       "      <th>basement_yes</th>\n",
       "      <th>hotwaterheating_yes</th>\n",
       "      <th>airconditioning_yes</th>\n",
       "      <th>prefarea_yes</th>\n",
       "      <th>furnishingstatus_semi-furnished</th>\n",
       "      <th>furnishingstatus_unfurnished</th>\n",
       "    </tr>\n",
       "  </thead>\n",
       "  <tbody>\n",
       "    <tr>\n",
       "      <th>491</th>\n",
       "      <td>2640</td>\n",
       "      <td>2</td>\n",
       "      <td>1</td>\n",
       "      <td>1</td>\n",
       "      <td>1</td>\n",
       "      <td>0</td>\n",
       "      <td>0</td>\n",
       "      <td>0</td>\n",
       "      <td>0</td>\n",
       "      <td>0</td>\n",
       "      <td>0</td>\n",
       "      <td>0</td>\n",
       "      <td>0</td>\n",
       "    </tr>\n",
       "    <tr>\n",
       "      <th>475</th>\n",
       "      <td>3000</td>\n",
       "      <td>2</td>\n",
       "      <td>1</td>\n",
       "      <td>2</td>\n",
       "      <td>0</td>\n",
       "      <td>1</td>\n",
       "      <td>0</td>\n",
       "      <td>0</td>\n",
       "      <td>0</td>\n",
       "      <td>0</td>\n",
       "      <td>0</td>\n",
       "      <td>1</td>\n",
       "      <td>0</td>\n",
       "    </tr>\n",
       "    <tr>\n",
       "      <th>429</th>\n",
       "      <td>4775</td>\n",
       "      <td>4</td>\n",
       "      <td>1</td>\n",
       "      <td>2</td>\n",
       "      <td>0</td>\n",
       "      <td>1</td>\n",
       "      <td>0</td>\n",
       "      <td>0</td>\n",
       "      <td>0</td>\n",
       "      <td>0</td>\n",
       "      <td>0</td>\n",
       "      <td>0</td>\n",
       "      <td>1</td>\n",
       "    </tr>\n",
       "    <tr>\n",
       "      <th>152</th>\n",
       "      <td>5400</td>\n",
       "      <td>5</td>\n",
       "      <td>1</td>\n",
       "      <td>2</td>\n",
       "      <td>0</td>\n",
       "      <td>1</td>\n",
       "      <td>1</td>\n",
       "      <td>1</td>\n",
       "      <td>0</td>\n",
       "      <td>1</td>\n",
       "      <td>1</td>\n",
       "      <td>0</td>\n",
       "      <td>0</td>\n",
       "    </tr>\n",
       "    <tr>\n",
       "      <th>375</th>\n",
       "      <td>5960</td>\n",
       "      <td>3</td>\n",
       "      <td>1</td>\n",
       "      <td>2</td>\n",
       "      <td>0</td>\n",
       "      <td>1</td>\n",
       "      <td>1</td>\n",
       "      <td>1</td>\n",
       "      <td>0</td>\n",
       "      <td>0</td>\n",
       "      <td>0</td>\n",
       "      <td>0</td>\n",
       "      <td>1</td>\n",
       "    </tr>\n",
       "    <tr>\n",
       "      <th>52</th>\n",
       "      <td>6000</td>\n",
       "      <td>4</td>\n",
       "      <td>2</td>\n",
       "      <td>4</td>\n",
       "      <td>1</td>\n",
       "      <td>1</td>\n",
       "      <td>1</td>\n",
       "      <td>0</td>\n",
       "      <td>0</td>\n",
       "      <td>1</td>\n",
       "      <td>0</td>\n",
       "      <td>0</td>\n",
       "      <td>0</td>\n",
       "    </tr>\n",
       "    <tr>\n",
       "      <th>320</th>\n",
       "      <td>4320</td>\n",
       "      <td>3</td>\n",
       "      <td>1</td>\n",
       "      <td>2</td>\n",
       "      <td>2</td>\n",
       "      <td>1</td>\n",
       "      <td>0</td>\n",
       "      <td>0</td>\n",
       "      <td>0</td>\n",
       "      <td>0</td>\n",
       "      <td>1</td>\n",
       "      <td>0</td>\n",
       "      <td>0</td>\n",
       "    </tr>\n",
       "    <tr>\n",
       "      <th>317</th>\n",
       "      <td>4992</td>\n",
       "      <td>3</td>\n",
       "      <td>2</td>\n",
       "      <td>2</td>\n",
       "      <td>2</td>\n",
       "      <td>1</td>\n",
       "      <td>0</td>\n",
       "      <td>0</td>\n",
       "      <td>0</td>\n",
       "      <td>0</td>\n",
       "      <td>0</td>\n",
       "      <td>0</td>\n",
       "      <td>1</td>\n",
       "    </tr>\n",
       "    <tr>\n",
       "      <th>94</th>\n",
       "      <td>6000</td>\n",
       "      <td>4</td>\n",
       "      <td>2</td>\n",
       "      <td>4</td>\n",
       "      <td>1</td>\n",
       "      <td>1</td>\n",
       "      <td>0</td>\n",
       "      <td>0</td>\n",
       "      <td>0</td>\n",
       "      <td>0</td>\n",
       "      <td>0</td>\n",
       "      <td>1</td>\n",
       "      <td>0</td>\n",
       "    </tr>\n",
       "    <tr>\n",
       "      <th>399</th>\n",
       "      <td>7350</td>\n",
       "      <td>2</td>\n",
       "      <td>1</td>\n",
       "      <td>1</td>\n",
       "      <td>1</td>\n",
       "      <td>1</td>\n",
       "      <td>0</td>\n",
       "      <td>0</td>\n",
       "      <td>0</td>\n",
       "      <td>0</td>\n",
       "      <td>0</td>\n",
       "      <td>1</td>\n",
       "      <td>0</td>\n",
       "    </tr>\n",
       "  </tbody>\n",
       "</table>\n",
       "</div>"
      ],
      "text/plain": [
       "     area  bedrooms  bathrooms  stories  parking  mainroad_yes  guestroom_yes  \\\n",
       "491  2640         2          1        1        1             0              0   \n",
       "475  3000         2          1        2        0             1              0   \n",
       "429  4775         4          1        2        0             1              0   \n",
       "152  5400         5          1        2        0             1              1   \n",
       "375  5960         3          1        2        0             1              1   \n",
       "52   6000         4          2        4        1             1              1   \n",
       "320  4320         3          1        2        2             1              0   \n",
       "317  4992         3          2        2        2             1              0   \n",
       "94   6000         4          2        4        1             1              0   \n",
       "399  7350         2          1        1        1             1              0   \n",
       "\n",
       "     basement_yes  hotwaterheating_yes  airconditioning_yes  prefarea_yes  \\\n",
       "491             0                    0                    0             0   \n",
       "475             0                    0                    0             0   \n",
       "429             0                    0                    0             0   \n",
       "152             1                    0                    1             1   \n",
       "375             1                    0                    0             0   \n",
       "52              0                    0                    1             0   \n",
       "320             0                    0                    0             1   \n",
       "317             0                    0                    0             0   \n",
       "94              0                    0                    0             0   \n",
       "399             0                    0                    0             0   \n",
       "\n",
       "     furnishingstatus_semi-furnished  furnishingstatus_unfurnished  \n",
       "491                                0                             0  \n",
       "475                                1                             0  \n",
       "429                                0                             1  \n",
       "152                                0                             0  \n",
       "375                                0                             1  \n",
       "52                                 0                             0  \n",
       "320                                0                             0  \n",
       "317                                0                             1  \n",
       "94                                 1                             0  \n",
       "399                                1                             0  "
      ]
     },
     "execution_count": 8,
     "metadata": {},
     "output_type": "execute_result"
    }
   ],
   "source": [
    "X.sample(10)"
   ]
  },
  {
   "cell_type": "markdown",
   "id": "8e1fb1b6",
   "metadata": {},
   "source": [
    "#### Encoding key "
   ]
  },
  {
   "cell_type": "markdown",
   "id": "a74df031",
   "metadata": {},
   "source": [
    "##### -  mainroad_yes = 1 , mainroad_no = 0 (dropped)\n",
    "##### - guestroom_yes = 1 ,  guestroom_no = 0 (dropped)\n",
    "##### - basement_yes = 1 , basement_no = 0 (dropped)\n",
    "##### - hotwaterheating_yes = 1 , hotwaterheating_no = 0 (dropped)\n",
    "##### - airconditioning_yes = 1 , airconditioning_no = 0 (dropped) \n",
    "##### - prefarea_yes = 1 , prefarea_no = 0 (dropped)\n",
    "##### - furnishingstatus_semi-furnished = 10 , furnishingstatus_unfurnished = 01 , furnishingstatus_furnished = 00 (dropped)"
   ]
  },
  {
   "cell_type": "markdown",
   "id": "6480f0f2",
   "metadata": {},
   "source": [
    "### Splitting dataset into training and test sets"
   ]
  },
  {
   "cell_type": "code",
   "execution_count": 9,
   "id": "e8d5c4ff",
   "metadata": {},
   "outputs": [],
   "source": [
    "from sklearn.model_selection import train_test_split\n",
    "X_train,X_test,y_train,y_test=train_test_split(X,y,\n",
    "                                              test_size=.2,\n",
    "                                              random_state=20)"
   ]
  },
  {
   "cell_type": "markdown",
   "id": "d2abee80",
   "metadata": {},
   "source": [
    "### Training MLR model on training set"
   ]
  },
  {
   "cell_type": "code",
   "execution_count": 10,
   "id": "9306666d",
   "metadata": {},
   "outputs": [
    {
     "data": {
      "text/plain": [
       "LinearRegression()"
      ]
     },
     "execution_count": 10,
     "metadata": {},
     "output_type": "execute_result"
    }
   ],
   "source": [
    "from sklearn.linear_model import LinearRegression\n",
    "regressor=LinearRegression()\n",
    "regressor.fit(X_train.values, y_train)"
   ]
  },
  {
   "cell_type": "markdown",
   "id": "8b246385",
   "metadata": {},
   "source": [
    "### Finding intercept & coefficients"
   ]
  },
  {
   "cell_type": "code",
   "execution_count": 11,
   "id": "b8dfcf08",
   "metadata": {},
   "outputs": [
    {
     "name": "stdout",
     "output_type": "stream",
     "text": [
      "Coefficients:  [[ 2.42860234e+02  1.52680838e+05  9.81458164e+05  4.15303525e+05\n",
      "   3.17368422e+05  4.05723366e+05  4.10717450e+05  3.29333078e+05\n",
      "   4.30937815e+05  8.19728625e+05  6.75717105e+05  2.70974975e+04\n",
      "  -3.33891104e+05]]\n",
      "Intercept:  [-68421.47276616]\n"
     ]
    }
   ],
   "source": [
    "print(\"Coefficients: \", regressor.coef_)\n",
    "print(\"Intercept: \", regressor.intercept_)"
   ]
  },
  {
   "cell_type": "markdown",
   "id": "35c53041",
   "metadata": {},
   "source": [
    "#### Equation "
   ]
  },
  {
   "cell_type": "code",
   "execution_count": 12,
   "id": "bdc5b0f9",
   "metadata": {},
   "outputs": [
    {
     "data": {
      "text/plain": [
       "Index(['area', 'bedrooms', 'bathrooms', 'stories', 'parking', 'mainroad_yes',\n",
       "       'guestroom_yes', 'basement_yes', 'hotwaterheating_yes',\n",
       "       'airconditioning_yes', 'prefarea_yes',\n",
       "       'furnishingstatus_semi-furnished', 'furnishingstatus_unfurnished'],\n",
       "      dtype='object')"
      ]
     },
     "execution_count": 12,
     "metadata": {},
     "output_type": "execute_result"
    }
   ],
   "source": [
    "X_train.columns"
   ]
  },
  {
   "cell_type": "markdown",
   "id": "1c3f0648",
   "metadata": {},
   "source": [
    "##### Price = -68421.4728 + area(*2.4286x10^2) + bedrooms(*1.5268x10^5) + bathrooms(*9.8146x10^5) + stories(*4.1530x10^5) + parking(*3.1737x10^5) + mainroad_yes(*4.0572x10^5) + guestroom_yes(*4.1072x10^5) + basement_yes(*3.2933x10^5) + hotwaterheating_yes(*4.309x10^5) + airconditioning_yes(*8.1973x10^5) + prefarea_yes(*6.7572x10^5) + furnishingstatus_semi-furnished(*2.7097x010^4) - furnishingstatus_unfurnished(*3.3389x10^5)"
   ]
  },
  {
   "cell_type": "markdown",
   "id": "392c2261",
   "metadata": {},
   "source": [
    "### Predicting test results"
   ]
  },
  {
   "cell_type": "code",
   "execution_count": 13,
   "id": "8130bcfa",
   "metadata": {},
   "outputs": [],
   "source": [
    "y_pred=regressor.predict(X_test.values)"
   ]
  },
  {
   "cell_type": "markdown",
   "id": "effc1067",
   "metadata": {},
   "source": [
    "### RMSE and R Square"
   ]
  },
  {
   "cell_type": "code",
   "execution_count": 14,
   "id": "da2274ed",
   "metadata": {},
   "outputs": [
    {
     "name": "stdout",
     "output_type": "stream",
     "text": [
      "R Square: 0.68\n",
      "MSE: 1199438721041.63\n",
      "RMSE: 1095188.90\n"
     ]
    }
   ],
   "source": [
    "from sklearn.metrics import mean_squared_error, r2_score\n",
    "import math\n",
    "print(f\"R Square: {r2_score(y_test,y_pred):.2f}\")\n",
    "print(f\"MSE: {mean_squared_error(y_test,y_pred):.2f}\")\n",
    "print(f\"RMSE: {math.sqrt(mean_squared_error(y_test,y_pred)):.2f}\")"
   ]
  },
  {
   "cell_type": "markdown",
   "id": "3f05add1",
   "metadata": {},
   "source": [
    "### Validation"
   ]
  },
  {
   "cell_type": "code",
   "execution_count": 16,
   "id": "af4f7356",
   "metadata": {},
   "outputs": [
    {
     "data": {
      "text/html": [
       "<div>\n",
       "<style scoped>\n",
       "    .dataframe tbody tr th:only-of-type {\n",
       "        vertical-align: middle;\n",
       "    }\n",
       "\n",
       "    .dataframe tbody tr th {\n",
       "        vertical-align: top;\n",
       "    }\n",
       "\n",
       "    .dataframe thead th {\n",
       "        text-align: right;\n",
       "    }\n",
       "</style>\n",
       "<table border=\"1\" class=\"dataframe\">\n",
       "  <thead>\n",
       "    <tr style=\"text-align: right;\">\n",
       "      <th></th>\n",
       "      <th>area</th>\n",
       "      <th>bedrooms</th>\n",
       "      <th>bathrooms</th>\n",
       "      <th>stories</th>\n",
       "      <th>parking</th>\n",
       "      <th>mainroad_yes</th>\n",
       "      <th>guestroom_yes</th>\n",
       "      <th>basement_yes</th>\n",
       "      <th>hotwaterheating_yes</th>\n",
       "      <th>airconditioning_yes</th>\n",
       "      <th>prefarea_yes</th>\n",
       "      <th>furnishingstatus_semi-furnished</th>\n",
       "      <th>furnishingstatus_unfurnished</th>\n",
       "    </tr>\n",
       "  </thead>\n",
       "  <tbody>\n",
       "    <tr>\n",
       "      <th>56</th>\n",
       "      <td>11440</td>\n",
       "      <td>4</td>\n",
       "      <td>1</td>\n",
       "      <td>2</td>\n",
       "      <td>1</td>\n",
       "      <td>1</td>\n",
       "      <td>0</td>\n",
       "      <td>1</td>\n",
       "      <td>0</td>\n",
       "      <td>0</td>\n",
       "      <td>1</td>\n",
       "      <td>1</td>\n",
       "      <td>0</td>\n",
       "    </tr>\n",
       "    <tr>\n",
       "      <th>290</th>\n",
       "      <td>2610</td>\n",
       "      <td>4</td>\n",
       "      <td>3</td>\n",
       "      <td>2</td>\n",
       "      <td>0</td>\n",
       "      <td>0</td>\n",
       "      <td>0</td>\n",
       "      <td>0</td>\n",
       "      <td>0</td>\n",
       "      <td>0</td>\n",
       "      <td>0</td>\n",
       "      <td>1</td>\n",
       "      <td>0</td>\n",
       "    </tr>\n",
       "    <tr>\n",
       "      <th>16</th>\n",
       "      <td>6600</td>\n",
       "      <td>4</td>\n",
       "      <td>2</td>\n",
       "      <td>2</td>\n",
       "      <td>1</td>\n",
       "      <td>1</td>\n",
       "      <td>1</td>\n",
       "      <td>1</td>\n",
       "      <td>0</td>\n",
       "      <td>1</td>\n",
       "      <td>1</td>\n",
       "      <td>0</td>\n",
       "      <td>1</td>\n",
       "    </tr>\n",
       "    <tr>\n",
       "      <th>410</th>\n",
       "      <td>3850</td>\n",
       "      <td>3</td>\n",
       "      <td>1</td>\n",
       "      <td>1</td>\n",
       "      <td>0</td>\n",
       "      <td>1</td>\n",
       "      <td>0</td>\n",
       "      <td>0</td>\n",
       "      <td>0</td>\n",
       "      <td>0</td>\n",
       "      <td>0</td>\n",
       "      <td>0</td>\n",
       "      <td>1</td>\n",
       "    </tr>\n",
       "    <tr>\n",
       "      <th>129</th>\n",
       "      <td>11460</td>\n",
       "      <td>3</td>\n",
       "      <td>1</td>\n",
       "      <td>3</td>\n",
       "      <td>2</td>\n",
       "      <td>1</td>\n",
       "      <td>0</td>\n",
       "      <td>0</td>\n",
       "      <td>0</td>\n",
       "      <td>0</td>\n",
       "      <td>1</td>\n",
       "      <td>1</td>\n",
       "      <td>0</td>\n",
       "    </tr>\n",
       "    <tr>\n",
       "      <th>461</th>\n",
       "      <td>4960</td>\n",
       "      <td>2</td>\n",
       "      <td>1</td>\n",
       "      <td>1</td>\n",
       "      <td>0</td>\n",
       "      <td>1</td>\n",
       "      <td>0</td>\n",
       "      <td>1</td>\n",
       "      <td>0</td>\n",
       "      <td>1</td>\n",
       "      <td>0</td>\n",
       "      <td>0</td>\n",
       "      <td>1</td>\n",
       "    </tr>\n",
       "    <tr>\n",
       "      <th>77</th>\n",
       "      <td>6500</td>\n",
       "      <td>3</td>\n",
       "      <td>2</td>\n",
       "      <td>3</td>\n",
       "      <td>0</td>\n",
       "      <td>1</td>\n",
       "      <td>0</td>\n",
       "      <td>0</td>\n",
       "      <td>0</td>\n",
       "      <td>1</td>\n",
       "      <td>1</td>\n",
       "      <td>0</td>\n",
       "      <td>0</td>\n",
       "    </tr>\n",
       "    <tr>\n",
       "      <th>248</th>\n",
       "      <td>4100</td>\n",
       "      <td>2</td>\n",
       "      <td>2</td>\n",
       "      <td>1</td>\n",
       "      <td>0</td>\n",
       "      <td>1</td>\n",
       "      <td>1</td>\n",
       "      <td>1</td>\n",
       "      <td>0</td>\n",
       "      <td>0</td>\n",
       "      <td>0</td>\n",
       "      <td>1</td>\n",
       "      <td>0</td>\n",
       "    </tr>\n",
       "    <tr>\n",
       "      <th>281</th>\n",
       "      <td>4500</td>\n",
       "      <td>2</td>\n",
       "      <td>1</td>\n",
       "      <td>1</td>\n",
       "      <td>2</td>\n",
       "      <td>1</td>\n",
       "      <td>0</td>\n",
       "      <td>0</td>\n",
       "      <td>0</td>\n",
       "      <td>1</td>\n",
       "      <td>0</td>\n",
       "      <td>0</td>\n",
       "      <td>0</td>\n",
       "    </tr>\n",
       "    <tr>\n",
       "      <th>172</th>\n",
       "      <td>8400</td>\n",
       "      <td>3</td>\n",
       "      <td>1</td>\n",
       "      <td>2</td>\n",
       "      <td>2</td>\n",
       "      <td>1</td>\n",
       "      <td>1</td>\n",
       "      <td>1</td>\n",
       "      <td>0</td>\n",
       "      <td>1</td>\n",
       "      <td>1</td>\n",
       "      <td>0</td>\n",
       "      <td>1</td>\n",
       "    </tr>\n",
       "  </tbody>\n",
       "</table>\n",
       "</div>"
      ],
      "text/plain": [
       "      area  bedrooms  bathrooms  stories  parking  mainroad_yes  \\\n",
       "56   11440         4          1        2        1             1   \n",
       "290   2610         4          3        2        0             0   \n",
       "16    6600         4          2        2        1             1   \n",
       "410   3850         3          1        1        0             1   \n",
       "129  11460         3          1        3        2             1   \n",
       "461   4960         2          1        1        0             1   \n",
       "77    6500         3          2        3        0             1   \n",
       "248   4100         2          2        1        0             1   \n",
       "281   4500         2          1        1        2             1   \n",
       "172   8400         3          1        2        2             1   \n",
       "\n",
       "     guestroom_yes  basement_yes  hotwaterheating_yes  airconditioning_yes  \\\n",
       "56               0             1                    0                    0   \n",
       "290              0             0                    0                    0   \n",
       "16               1             1                    0                    1   \n",
       "410              0             0                    0                    0   \n",
       "129              0             0                    0                    0   \n",
       "461              0             1                    0                    1   \n",
       "77               0             0                    0                    1   \n",
       "248              1             1                    0                    0   \n",
       "281              0             0                    0                    1   \n",
       "172              1             1                    0                    1   \n",
       "\n",
       "     prefarea_yes  furnishingstatus_semi-furnished  \\\n",
       "56              1                                1   \n",
       "290             0                                1   \n",
       "16              1                                0   \n",
       "410             0                                0   \n",
       "129             1                                1   \n",
       "461             0                                0   \n",
       "77              1                                0   \n",
       "248             0                                1   \n",
       "281             0                                0   \n",
       "172             1                                0   \n",
       "\n",
       "     furnishingstatus_unfurnished  \n",
       "56                              0  \n",
       "290                             0  \n",
       "16                              1  \n",
       "410                             1  \n",
       "129                             0  \n",
       "461                             1  \n",
       "77                              0  \n",
       "248                             0  \n",
       "281                             0  \n",
       "172                             1  "
      ]
     },
     "execution_count": 16,
     "metadata": {},
     "output_type": "execute_result"
    }
   ],
   "source": [
    "X_test.head(10)"
   ]
  },
  {
   "cell_type": "markdown",
   "id": "d2f7b612",
   "metadata": {},
   "source": [
    "#### Predict the prices for the scenarios below taken from the csv file. The actual values are  indicated below to showcase the different between the model's predictions and the actual price. "
   ]
  },
  {
   "cell_type": "code",
   "execution_count": null,
   "id": "577354fc",
   "metadata": {},
   "outputs": [],
   "source": []
  },
  {
   "cell_type": "code",
   "execution_count": null,
   "id": "6499aa98",
   "metadata": {},
   "outputs": [],
   "source": []
  },
  {
   "cell_type": "code",
   "execution_count": null,
   "id": "c2d25d54",
   "metadata": {},
   "outputs": [],
   "source": []
  },
  {
   "cell_type": "markdown",
   "id": "0807b719",
   "metadata": {},
   "source": [
    "### backwards eliination?"
   ]
  },
  {
   "cell_type": "code",
   "execution_count": null,
   "id": "a1434cff",
   "metadata": {},
   "outputs": [],
   "source": []
  }
 ],
 "metadata": {
  "kernelspec": {
   "display_name": "Python 3 (ipykernel)",
   "language": "python",
   "name": "python3"
  },
  "language_info": {
   "codemirror_mode": {
    "name": "ipython",
    "version": 3
   },
   "file_extension": ".py",
   "mimetype": "text/x-python",
   "name": "python",
   "nbconvert_exporter": "python",
   "pygments_lexer": "ipython3",
   "version": "3.9.12"
  }
 },
 "nbformat": 4,
 "nbformat_minor": 5
}
